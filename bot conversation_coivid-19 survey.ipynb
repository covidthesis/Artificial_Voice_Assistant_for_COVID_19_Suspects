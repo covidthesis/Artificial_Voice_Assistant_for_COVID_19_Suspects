{
 "cells": [
  {
   "cell_type": "code",
   "execution_count": 2,
   "metadata": {},
   "outputs": [],
   "source": [
    "def Sentimenatalanalyzer(test_data):\n",
    "    tokens = tokenizer.encode(test_data, return_tensors='pt')\n",
    "    result = model(tokens)\n",
    "    result.logits\n",
    "    final = int(torch.argmax(result.logits))+1\n",
    "    if final >= 2.5:\n",
    "        return 1\n",
    "    else:\n",
    "        return 0\n",
    "\n",
    "import speech_recognition as sr \n",
    "import random\n",
    "import playsound\n",
    "from gtts import gTTS\n",
    "from time import ctime \n",
    "import webbrowser \n",
    "import time\n",
    "import os \n",
    "from transformers import AutoTokenizer, AutoModelForSequenceClassification\n",
    "import torch\n",
    "tokenizer = AutoTokenizer.from_pretrained('nlptown/bert-base-multilingual-uncased-sentiment')\n",
    "model = AutoModelForSequenceClassification.from_pretrained('nlptown/bert-base-multilingual-uncased-sentiment')\n",
    "\n",
    "r = sr.Recognizer()\n",
    "\n",
    "text=''\n",
    "voice_data=''\n",
    "# listen for audio and convert it to text:\n",
    "def record_audio():\n",
    "    text=\"\"\n",
    "    with sr.Microphone() as source:\n",
    "        r.adjust_for_ambient_noise(source, duration=5)\n",
    "        audio=r.listen(source)\n",
    "        try:\n",
    "            text=r.recognize_google(audio)\n",
    "        except:\n",
    "            print('Check internet connectivity')\n",
    "    print(text)\n",
    "    return text\n",
    "\n",
    "\n",
    "def alexis_speak(audio_string):\n",
    "    tts = gTTS(text=audio_string, lang='en')\n",
    "    r = random.randint(1, 10000000)\n",
    "    audio_file = 'audio-' + str(r) + '.mp3'\n",
    "    tts.save(audio_file)\n",
    "    playsound.playsound(audio_file)\n",
    "    print(audio_string)\n",
    "    os.remove(audio_file)\n",
    "\n",
    "\n",
    "def respondwithsentiment(voice_data):\n",
    "    alexis_speak(voice_data)\n",
    "    with sr.Microphone() as source:\n",
    "        audio=r.listen(source)\n",
    "    text=r.recognize_google(audio)\n",
    "    text=Sentimenatalanalyzer(text.lower())\n",
    "    return text\n",
    "\n",
    "def respondwithoutsentiment(voice_data):\n",
    "    alexis_speak(voice_data)\n",
    "    with sr.Microphone() as source:\n",
    "        audio=r.listen(source)\n",
    "    text=r.recognize_google(audio)\n",
    "    number_text=text.split()\n",
    "    max_number = 0\n",
    "    for text in number_text:    \n",
    "        try:\n",
    "            num=int(text)\n",
    "            if max_number < num:\n",
    "                max_number=num\n",
    "        except:  \n",
    "            pass\n",
    "    return max_number\n",
    "            \n",
    "time.sleep(1)\n",
    "\n",
    "\n",
    "def conversation():\n",
    "    matrix=dict()\n",
    "    question1 = \"How old are you?\";\n",
    "    question2 = \"Have you traveled to (or living in) any of the COVID-19 affected areas/countries in the last 14 days?\";\n",
    "    question3 = \"Did you have any close contact with a person who is known to have COVID-19 during the last 14 days?\";\n",
    "    question4 = \"Do you have a sore throat?\";\n",
    "    question5 = \"Can you take any smell from food/environment?\";\n",
    "    question6 = \"Do you have any pain in muscle?\";\n",
    "    question7 = \"Do you feel any illness or discomfort?\";\n",
    "    question8 = \"Do you have any mild fever?\";\n",
    "    question9 = \"how many days did you have mild fever?\"\n",
    "    question10 = \"what is your current body temperature?\"\n",
    "    question11 = \"Do you have any dry cough?\";\n",
    "    question12 = \"how many days did you have dry cough?\";\n",
    "    question13 = \"Do you have any headache?\";\n",
    "    question14 = \"how many days did you have headache?\";\n",
    "    question15 = \"Do you have Diarrhea?\";\n",
    "    question16 = \"how many days did you have Diarrhea?\";\n",
    "    question17 = \"Do you have any tachypnoea and shortness of breath?\";\n",
    "    question18 = \"How many days did you have shortness of breath?\";\n",
    "    matrix[\"age\"]=respondwithoutsentiment(question1)\n",
    "    matrix[\"travel\"]=respondwithsentiment(question2)\n",
    "    matrix[\"closecontact\"]=respondwithsentiment(question3)\n",
    "    matrix[\"sorethroat\"]=respondwithsentiment(question4)\n",
    "    matrix[\"foodsmell\"]=respondwithsentiment(question5) \n",
    "    matrix[\"musclepain\"]=respondwithsentiment(question6)\n",
    "    matrix[\"discomfort\"]=respondwithsentiment(question7)\n",
    "    matrix[\"fever\"]=respondwithsentiment(question8)\n",
    "    if matrix[\"fever\"] == 1:\n",
    "        matrix[\"feverdays\"]=respondwithoutsentiment(question9)\n",
    "        while matrix[\"feverdays\"] > 15:\n",
    "            alexis_speak('Please tell the value between 1 to 15')\n",
    "            matrix[\"feverdays\"]=respondwithoutsentiment(question9)\n",
    "        matrix[\"temperature\"]=respondwithoutsentiment(question10)\n",
    "        while matrix[\"temperature\"] <= 105 and matrix[\"temperature\"] >= 97:\n",
    "            alexis_speak('Please tell the value between 97 to 105')\n",
    "            matrix[\"temperature\"]=respondwithoutsentiment(question10)\n",
    "    else:\n",
    "        matrix[\"feverdays\"] = 0\n",
    "        matrix[\"temperature\"] = 0\n",
    "    matrix[\"drycough\"]=respondwithsentiment(question11)\n",
    "    if matrix[\"drycough\"] == 1:\n",
    "        matrix[\"drycoughdays\"]=respondwithoutsentiment(question12)\n",
    "        while matrix[\"drycoughdays\"] > 15:\n",
    "            alexis_speak('Please tell the value between 1 to 15')\n",
    "            matrix[\"drycoughdays\"]=respondwithoutsentiment(question12)\n",
    "    else:\n",
    "        matrix[\"drycoughdays\"] = 0\n",
    "    matrix[\"headache\"]=respondwithsentiment(question13)\n",
    "    if matrix[\"headache\"] == 1:\n",
    "        matrix[\"headachedays\"]=respondwithoutsentiment(question14)\n",
    "        while matrix[\"headachedays\"] > 15:\n",
    "            alexis_speak('Please tell the value between 1 to 15')\n",
    "            matrix[\"headachedays\"]=respondwithoutsentiment(question14)\n",
    "    else:\n",
    "        matrix[\"headachedays\"] = 0\n",
    "    matrix[\"diarrhea\"]=respondwithsentiment(question15)\n",
    "    if matrix[\"diarrhea\"] == 1:\n",
    "        matrix[\"diarrheadays\"]=respondwithoutsentiment(question16)\n",
    "        while matrix[\"diarrheadays\"] > 15:\n",
    "            alexis_speak('Please tell the value between 1 to 15')\n",
    "            matrix[\"diarrheadays\"]=respondwithoutsentiment(question16)\n",
    "    else:\n",
    "        matrix[\"diarrheadays\"] = 0\n",
    "    matrix[\"breath\"]=respondwithsentiment(question17)\n",
    "    if matrix[\"breath\"] == 1:\n",
    "        matrix[\"breathdays\"]=respondwithoutsentiment(question18)\n",
    "        while matrix[\"breathdays\"] > 15:\n",
    "            alexis_speak('Please tell the value between 1 to 15')\n",
    "            matrix[\"breathdays\"]=respondwithoutsentiment(question18)\n",
    "    else:\n",
    "        matrix[\"breathdays\"] = 0\n",
    "    return matrix\n",
    "\n",
    "def csv(matrix):\n",
    "    import csv\n",
    "    my_dict = matrix\n",
    "    feature_cols = ['age','travel', 'closecontact', 'sorethroat', 'foodsmell',\n",
    "       'musclepain', 'discomfort', 'fever','feverdays','temperature', \n",
    "        'drycough','drycoughdays', 'headache', 'headachedays', 'diarrhea',\n",
    "       'diarrheadays', 'breath','breathdays']\n",
    "    with open('test.csv', 'w') as f:\n",
    "        for cols in feature_cols:\n",
    "            if cols in my_dict.keys():\n",
    "                f.write(\"%s,\"%(cols))\n",
    "        f.write(\"\\n\")\n",
    "        for cols in feature_cols:\n",
    "            if cols in my_dict.keys():\n",
    "                f.write(\"%s,\"%(my_dict[cols]))\n",
    "\n",
    "def prediction():\n",
    "    import pickle\n",
    "    import pandas as pd\n",
    "    filename = 'finalized_model.sav'\n",
    "    loaded_model = pickle.load(open(filename, 'rb'))\n",
    "    col_names = ['age','travel', 'closecontact', 'sorethroat', 'foodsmell',\n",
    "       'musclepain', 'discomfort', 'fever','feverdays','temperature', \n",
    "        'drycough','drycoughdays', 'headache', 'headachedays', 'diarrhea',\n",
    "       'diarrheadays', 'breath','breathdays','infected']\n",
    "    feature_cols = ['age','travel', 'closecontact', 'sorethroat', 'foodsmell',\n",
    "       'musclepain', 'discomfort', 'fever','feverdays','temperature', \n",
    "        'drycough','drycoughdays', 'headache', 'headachedays', 'diarrhea',\n",
    "       'diarrheadays', 'breath','breathdays']\n",
    "    # load dataset\n",
    "    pima = pd.read_csv('test.csv', header=None, names=col_names)\n",
    "    pima = pima.apply(pd.to_numeric, errors='coerce')\n",
    "\n",
    "    # Delete the rows with labels 0,1,5\n",
    "    pima = pima.drop([0], axis=0)\n",
    "\n",
    "    #pima.head()\n",
    "    a = pima[feature_cols] # Features\n",
    "    #b = pima.infectedornot # Target variable\n",
    "\n",
    "    #Predict the response for test dataset\n",
    "    b_pred = loaded_model.predict(a)\n",
    "\n",
    "    # Model Accuracy, how often is the classifier correct?\n",
    "    #print(\"Accuracy:\",metrics.accuracy_score(b, b_pred))\n",
    "\n",
    "    return b_pred[0]\n",
    "\n",
    "def check_covid(covid_percentage):\n",
    "    if covid_percentage < 0.5:\n",
    "        alexis_speak('Your symptoms suggest that the probability of being infected is very low')\n",
    "    else:\n",
    "        alexis_speak('Your symptoms suggest that the probability of being infected is very high')"
   ]
  },
  {
   "cell_type": "code",
   "execution_count": 6,
   "metadata": {
    "scrolled": false
   },
   "outputs": [
    {
     "name": "stdout",
     "output_type": "stream",
     "text": [
      "How old are you?\n",
      "Have you traveled to (or living in) any of the COVID-19 affected areas/countries in the last 14 days?\n",
      "Did you have any close contact with a person who is known to have COVID-19 during the last 14 days?\n",
      "Do you have a sore throat?\n",
      "Can you take any smell from food/environment?\n",
      "Do you have any pain in muscle?\n",
      "Do you feel any illness or discomfort?\n",
      "Do you have any mild fever?\n",
      "Do you have any dry cough?\n",
      "Do you have any headache?\n",
      "Do you have Diarrhea?\n",
      "how many days did you have Diarrhea?\n",
      "Do you have any tachypnoea and shortness of breath?\n"
     ]
    },
    {
     "name": "stderr",
     "output_type": "stream",
     "text": [
      "c:\\users\\niloy\\appdata\\local\\programs\\python\\python37\\lib\\site-packages\\sklearn\\base.py:333: UserWarning: Trying to unpickle estimator DecisionTreeClassifier from version 0.23.2 when using version 1.0.1. This might lead to breaking code or invalid results. Use at your own risk. For more info please refer to:\n",
      "https://scikit-learn.org/stable/modules/model_persistence.html#security-maintainability-limitations\n",
      "  UserWarning,\n",
      "c:\\users\\niloy\\appdata\\local\\programs\\python\\python37\\lib\\site-packages\\sklearn\\base.py:333: UserWarning: Trying to unpickle estimator RandomForestClassifier from version 0.23.2 when using version 1.0.1. This might lead to breaking code or invalid results. Use at your own risk. For more info please refer to:\n",
      "https://scikit-learn.org/stable/modules/model_persistence.html#security-maintainability-limitations\n",
      "  UserWarning,\n",
      "c:\\users\\niloy\\appdata\\local\\programs\\python\\python37\\lib\\site-packages\\sklearn\\base.py:439: UserWarning: X has feature names, but RandomForestClassifier was fitted without feature names\n",
      "  f\"X has feature names, but {self.__class__.__name__} was fitted without\"\n"
     ]
    },
    {
     "name": "stdout",
     "output_type": "stream",
     "text": [
      "Your symptoms suggest that the probability of being infected is very low\n"
     ]
    }
   ],
   "source": [
    "matrix_con=conversation()\n",
    "csv(matrix_con)\n",
    "final_result=prediction()\n",
    "check_covid(final_result)"
   ]
  },
  {
   "cell_type": "code",
   "execution_count": 7,
   "metadata": {},
   "outputs": [
    {
     "name": "stdout",
     "output_type": "stream",
     "text": [
      "{'age': 20, 'travel': 1, 'closecontact': 0, 'sorethroat': 1, 'foodsmell': 0, 'musclepain': 0, 'discomfort': 0, 'fever': 0, 'feverdays': 0, 'temperature': 0, 'drycough': 0, 'drycoughdays': 0, 'headache': 0, 'headachedays': 0, 'diarrhea': 1, 'diarrheadays': 10, 'breath': 0, 'breathdays': 0}\n"
     ]
    }
   ],
   "source": [
    "print(matrix_con)"
   ]
  },
  {
   "cell_type": "code",
   "execution_count": 12,
   "metadata": {},
   "outputs": [],
   "source": [
    "matrix_con={'age': 23, 'travel': 0, 'closecontact': 1, 'sorethroat': 0, 'foodsmell': 1, 'musclepain': 0, 'discomfort': 1, 'fever': 1, 'feverdays': '5', 'temperature': '100', 'drycough': 0, 'drycoughdays': 0, 'headache': 1, 'headachedays': '10', 'diarrhea': 0, 'diarrheadays': 0, 'breath': 1, 'breathdays': '9'}"
   ]
  },
  {
   "cell_type": "code",
   "execution_count": 14,
   "metadata": {},
   "outputs": [],
   "source": [
    "csv(matrix_con)"
   ]
  },
  {
   "cell_type": "code",
   "execution_count": 15,
   "metadata": {},
   "outputs": [
    {
     "name": "stdout",
     "output_type": "stream",
     "text": [
      "Your symptoms suggest that the probability of being infected is very high\n"
     ]
    }
   ],
   "source": [
    "final_result=prediction()\n",
    "check_covid(final_result)"
   ]
  },
  {
   "cell_type": "code",
   "execution_count": 35,
   "metadata": {},
   "outputs": [
    {
     "name": "stdout",
     "output_type": "stream",
     "text": [
      "\n",
      "\n"
     ]
    }
   ],
   "source": [
    "r = sr.Recognizer()\n",
    "with sr.Microphone() as source:\n",
    "    r.adjust_for_ambient_noise(source, duration=5)\n",
    "    audio=r.listen(source)\n",
    "text=r.recognize_google(audio)\n",
    "number_text=text.split()\n",
    "max_number = 0\n",
    "for text in number_text:    \n",
    "    try:\n",
    "        num=int(text)\n",
    "        if max_number < num:\n",
    "            max_number=num\n",
    "    except:  \n",
    "        print('')"
   ]
  },
  {
   "cell_type": "code",
   "execution_count": null,
   "metadata": {},
   "outputs": [],
   "source": []
  }
 ],
 "metadata": {
  "kernelspec": {
   "display_name": "Python 3 (ipykernel)",
   "language": "python",
   "name": "python3"
  },
  "language_info": {
   "codemirror_mode": {
    "name": "ipython",
    "version": 3
   },
   "file_extension": ".py",
   "mimetype": "text/x-python",
   "name": "python",
   "nbconvert_exporter": "python",
   "pygments_lexer": "ipython3",
   "version": "3.7.7"
  }
 },
 "nbformat": 4,
 "nbformat_minor": 4
}
